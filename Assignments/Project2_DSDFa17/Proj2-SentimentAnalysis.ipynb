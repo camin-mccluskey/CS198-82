{
 "cells": [
  {
   "cell_type": "code",
   "execution_count": 344,
   "metadata": {
    "collapsed": false,
    "deletable": true,
    "editable": true
   },
   "outputs": [],
   "source": [
    "import numpy as np\n",
    "import pandas as pd\n",
    "import os\n",
    "import sklearn\n",
    "from sklearn import model_selection, linear_model\n",
    "from sklearn.model_selection import cross_val_score, GridSearchCV\n",
    "import glob\n",
    "import matplotlib.pyplot as plt\n",
    "from sklearn.tree import DecisionTreeClassifier\n",
    "from sklearn.metrics import accuracy_score\n",
    "from sklearn.ensemble import RandomForestClassifier\n"
   ]
  },
  {
   "cell_type": "markdown",
   "metadata": {
    "deletable": true,
    "editable": true
   },
   "source": [
    "# Reading Data"
   ]
  },
  {
   "cell_type": "code",
   "execution_count": 7,
   "metadata": {
    "collapsed": true,
    "deletable": true,
    "editable": true
   },
   "outputs": [],
   "source": [
    "def segmentWords(s): \n",
    "    return s.split()\n",
    "\n",
    "def readFile(fileName):\n",
    "    # Function for reading file\n",
    "    # input: filename as string\n",
    "    # output: contents of file as list containing single words\n",
    "    contents = []\n",
    "    f = open(fileName)\n",
    "    for line in f:\n",
    "        contents.append(line)\n",
    "    f.close()\n",
    "    result = segmentWords('\\n'.join(contents))\n",
    "    return result"
   ]
  },
  {
   "cell_type": "markdown",
   "metadata": {
    "deletable": true,
    "editable": true
   },
   "source": [
    "#### Create a Dataframe containing the counts of each word in a file"
   ]
  },
  {
   "cell_type": "code",
   "execution_count": 8,
   "metadata": {
    "collapsed": true,
    "deletable": true,
    "editable": true
   },
   "outputs": [],
   "source": [
    "def listdir_nohidden(path):\n",
    "    return glob.glob(os.path.join(path, '*'))"
   ]
  },
  {
   "cell_type": "code",
   "execution_count": 14,
   "metadata": {
    "collapsed": false,
    "deletable": true,
    "editable": true
   },
   "outputs": [
    {
     "name": "stdout",
     "output_type": "stream",
     "text": [
      "neg\n",
      "data_training/neg\n",
      "pos\n",
      "data_training/pos\n"
     ]
    }
   ],
   "source": [
    "d = []\n",
    "\n",
    "for c in os.listdir(\"data_training\"):\n",
    "    if c != '.DS_Store':\n",
    "        print(c)\n",
    "        directory = \"data_training/\" + c\n",
    "        print(directory)\n",
    "    for file in os.listdir(directory):\n",
    "        words = readFile(directory + \"/\" + file)\n",
    "        e = {x:words.count(x) for x in words}\n",
    "        e['__FileID__'] = file\n",
    "        if directory == \"data_training/neg\":\n",
    "            e['__CLASS__'] = 0\n",
    "        else:\n",
    "            e['__CLASS__'] = 1\n",
    "        d.append(e)\n",
    "        "
   ]
  },
  {
   "cell_type": "markdown",
   "metadata": {
    "deletable": true,
    "editable": true
   },
   "source": [
    "Create a dataframe from d - make sure to fill all the nan values with zeros.\n",
    "\n",
    "References:\n",
    "\n",
    "https://pandas.pydata.org/pandas-docs/stable/generated/pandas.DataFrame.html\n",
    "https://pandas.pydata.org/pandas-docs/stable/generated/pandas.DataFrame.fillna.html\n"
   ]
  },
  {
   "cell_type": "code",
   "execution_count": 396,
   "metadata": {
    "collapsed": false,
    "deletable": true,
    "editable": true
   },
   "outputs": [],
   "source": [
    "df  = pd.DataFrame(data=d).fillna(value=0)"
   ]
  },
  {
   "cell_type": "markdown",
   "metadata": {
    "deletable": true,
    "editable": true
   },
   "source": [
    "#### Split data into training and validation set "
   ]
  },
  {
   "cell_type": "markdown",
   "metadata": {
    "collapsed": true,
    "deletable": true,
    "editable": true
   },
   "source": [
    "* Sample 80% of your dataframe to be the training data\n",
    "\n",
    "* Let the remaining 20% be the validation data (you can filter out the indicies of the original dataframe that weren't selected for the training data)\n",
    "\n",
    "References:\n",
    "\n",
    "https://pandas.pydata.org/pandas-docs/stable/generated/pandas.DataFrame.sample.html\n",
    "https://pandas.pydata.org/pandas-docs/stable/generated/pandas.DataFrame.drop.html"
   ]
  },
  {
   "cell_type": "code",
   "execution_count": 397,
   "metadata": {
    "collapsed": false,
    "deletable": true,
    "editable": true
   },
   "outputs": [],
   "source": [
    "# isloating y and x values - dropping filename and class for x matrix  \n",
    "y_vals = df['__CLASS__']\n",
    "x_vals = df.loc[:, df.columns != '__CLASS__']\n",
    "x_vals = x_vals.loc[:, x_vals.columns != '__FileID__']\n"
   ]
  },
  {
   "cell_type": "code",
   "execution_count": 398,
   "metadata": {
    "collapsed": false,
    "deletable": true,
    "editable": true
   },
   "outputs": [],
   "source": [
    "# split data set into training and validation\n",
    "validation_xs, train_xs, validation_ys, train_ys  = sklearn.model_selection.train_test_split(x_vals,y_vals,test_size=0.8)"
   ]
  },
  {
   "cell_type": "markdown",
   "metadata": {
    "deletable": true,
    "editable": true
   },
   "source": [
    "* Split the dataframe for both training and validation data into x and y dataframes - where y contains the labels and x contains the words\n",
    "\n",
    "References:\n",
    "\n",
    "https://pandas.pydata.org/pandas-docs/stable/generated/pandas.DataFrame.drop.html"
   ]
  },
  {
   "cell_type": "code",
   "execution_count": 399,
   "metadata": {
    "collapsed": false,
    "deletable": true,
    "editable": true
   },
   "outputs": [
    {
     "data": {
      "text/plain": [
       "True"
      ]
     },
     "execution_count": 399,
     "metadata": {},
     "output_type": "execute_result"
    }
   ],
   "source": [
    "# verify data was correctly split (4:1 ratio in favour of training data)\n",
    "len(validation_ys)*4  == len(train_ys)"
   ]
  },
  {
   "cell_type": "markdown",
   "metadata": {
    "deletable": true,
    "editable": true
   },
   "source": [
    "# Logistic Regression"
   ]
  },
  {
   "cell_type": "markdown",
   "metadata": {
    "deletable": true,
    "editable": true
   },
   "source": [
    "#### Basic Logistic Regression\n",
    "* Use sklearn's linear_model.LogisticRegression() to create your model.\n",
    "* Fit the data and labels with your model.\n",
    "* Score your model with the same data and labels.\n",
    "\n",
    "References:\n",
    "\n",
    "http://scikit-learn.org/stable/modules/generated/sklearn.linear_model.LogisticRegression.html"
   ]
  },
  {
   "cell_type": "code",
   "execution_count": 408,
   "metadata": {
    "collapsed": false,
    "deletable": true,
    "editable": true
   },
   "outputs": [],
   "source": [
    "# create a model based on the training data \n",
    "logistic_reg = sklearn.linear_model.LogisticRegression().fit(train_xs,train_ys)"
   ]
  },
  {
   "cell_type": "code",
   "execution_count": 409,
   "metadata": {
    "collapsed": false,
    "deletable": true,
    "editable": true
   },
   "outputs": [],
   "source": [
    "# use the above model to predict the labels of the training and validation data \n",
    "predicted_ys_validation = logistic_reg.predict(validation_xs)\n",
    "predicted_ys_train = logistic_reg.predict(train_xs)"
   ]
  },
  {
   "cell_type": "code",
   "execution_count": 410,
   "metadata": {
    "collapsed": false,
    "deletable": true,
    "editable": true
   },
   "outputs": [
    {
     "name": "stdout",
     "output_type": "stream",
     "text": [
      "('The training accuracy is: ', 1.0)\n",
      "('The validation accuracy is: ', 0.9395833333333333)\n"
     ]
    }
   ],
   "source": [
    "# calculate the accuracy of the model - (percent of reviews correctly classified)\n",
    "training_accuracy = float(sum(abs(train_ys  - predicted_ys_train))) / len(train_ys)\n",
    "validation_accuracy = float(sum(abs(validation_ys - predicted_ys_validation))) / (len(validation_ys))\n",
    "\n",
    "print(\"The training accuracy is: \", 1 - training_accuracy)\n",
    "print(\"The validation accuracy is: \", 1 - validation_accuracy)\n",
    "\n",
    "# equiv implementation (use in future)\n",
    "training_accuracy = logistic_reg.score(train_xs,train_ys)\n",
    "validation_accuracy = logistic_reg.score(validation_xs, validation_ys)\n"
   ]
  },
  {
   "cell_type": "markdown",
   "metadata": {
    "deletable": true,
    "editable": true
   },
   "source": [
    "#### Changing Parameters"
   ]
  },
  {
   "cell_type": "code",
   "execution_count": 411,
   "metadata": {
    "collapsed": false,
    "deletable": true,
    "editable": true
   },
   "outputs": [
    {
     "name": "stdout",
     "output_type": "stream",
     "text": [
      "('The training accuracy is: ', 1.0)\n",
      "('The validation accuracy is: ', 0.93958333333333333)\n"
     ]
    }
   ],
   "source": [
    "# added a regularisation term C - note that default is C=1 which gave the accuracies above\n",
    "# guessed 1.5, accuracy improved on validation set. \n",
    "logistic_reg = sklearn.linear_model.LogisticRegression(C=1.5).fit(train_xs,train_ys)\n",
    "predicted_ys_train = logistic_reg.predict(train_xs)\n",
    "training_accuracy = logistic_reg.score(train_xs,train_ys)\n",
    "print(\"The training accuracy is: \", training_accuracy)\n",
    "validation_accuracy = logistic_reg.score(validation_xs, validation_ys)\n",
    "print(\"The validation accuracy is: \", validation_accuracy)\n"
   ]
  },
  {
   "cell_type": "code",
   "execution_count": 412,
   "metadata": {
    "collapsed": false,
    "deletable": true,
    "editable": true
   },
   "outputs": [],
   "source": [
    "# graph of training and validation accuracy vs regularisation const\n",
    "training_accuracy = []\n",
    "validation_accuracy =  []\n",
    "lambdas = [0.001, 0.01, 0.1, 1, 5, 10, 100]\n",
    "for param in lambdas:\n",
    "    logistic_reg = sklearn.linear_model.LogisticRegression(C=param).fit(train_xs,train_ys)\n",
    "    training_accuracy.append(logistic_reg.score(train_xs,train_ys))\n",
    "    validation_accuracy.append(logistic_reg.score(validation_xs, validation_ys))"
   ]
  },
  {
   "cell_type": "code",
   "execution_count": 413,
   "metadata": {
    "collapsed": false,
    "deletable": true,
    "editable": true
   },
   "outputs": [
    {
     "data": {
      "image/png": "[encoded data removed]",
      "text/plain": [
       "<matplotlib.figure.Figure at 0x117690d50>"
      ]
     },
     "metadata": {},
     "output_type": "display_data"
    }
   ],
   "source": [
    "# plot the graphs\n",
    "plt.plot(lambdas,training_accuracy)\n",
    "plt.plot(lambdas,validation_accuracy)\n",
    "plt.show()\n",
    "\n"
   ]
  },
  {
   "cell_type": "markdown",
   "metadata": {
    "deletable": true,
    "editable": true
   },
   "source": [
    "#### Feature Selection\n",
    "* In the backward stepsize selection method, you can remove coefficients and the corresponding x columns, where the coefficient is more than a particular amount away from the mean - you can choose how far from the mean is reasonable.\n",
    "\n",
    "References:\n",
    "\n",
    "https://pandas.pydata.org/pandas-docs/stable/generated/pandas.DataFrame.html#\n",
    "https://pandas.pydata.org/pandas-docs/stable/generated/pandas.DataFrame.sample.html\n",
    "https://pandas.pydata.org/pandas-docs/stable/generated/pandas.DataFrame.drop.html\n",
    "http://scikit-learn.org/stable/modules/generated/sklearn.linear_model.LogisticRegression.html\n",
    "https://docs.scipy.org/doc/numpy-1.13.0/reference/generated/numpy.where.html\n",
    "https://docs.scipy.org/doc/numpy-1.13.0/reference/generated/numpy.std.html\n",
    "https://docs.scipy.org/doc/numpy-1.13.0/reference/generated/numpy.mean.html"
   ]
  },
  {
   "cell_type": "code",
   "execution_count": 414,
   "metadata": {
    "collapsed": false,
    "deletable": true,
    "editable": true
   },
   "outputs": [
    {
     "data": {
      "text/plain": [
       "39959"
      ]
     },
     "execution_count": 414,
     "metadata": {},
     "output_type": "execute_result"
    }
   ],
   "source": [
    "weights = logistic_reg.coef_[:]\n",
    "# caculate z score for coefficent matrix\n",
    "z_score_weights = (weights - np.mean(weights))/np.std(weights)\n",
    "# use weights which are outside +- 1 sds from mean\n",
    "bad_indicies = np.where((z_score_weights<1) & (z_score_weights>-1))\n",
    "len(bad_indicies[1])"
   ]
  },
  {
   "cell_type": "markdown",
   "metadata": {
    "deletable": true,
    "editable": true
   },
   "source": [
    "How did you select which features to remove? Why did that reduce overfitting?"
   ]
  },
  {
   "cell_type": "code",
   "execution_count": 198,
   "metadata": {
    "collapsed": true,
    "deletable": true,
    "editable": true
   },
   "outputs": [],
   "source": [
    "df = df.loc[:, df.columns != '__CLASS__']\n",
    "df = df.loc[:, df.columns != '__FileID__']"
   ]
  },
  {
   "cell_type": "code",
   "execution_count": 199,
   "metadata": {
    "collapsed": false
   },
   "outputs": [],
   "source": [
    "#len(df.columns)\n",
    "reduced_features = df.drop(df.columns[bad_indicies[1]], axis=1)"
   ]
  },
  {
   "cell_type": "code",
   "execution_count": null,
   "metadata": {
    "collapsed": true
   },
   "outputs": [],
   "source": [
    "# number of reduced features len(reduced_features.columns)\n",
    "reduced_validation_xs, reduced_train_xs, validation_ys, train_ys  = sklearn.model_selection.train_test_split(reduced_features,y_vals,test_size=0.8)"
   ]
  },
  {
   "cell_type": "code",
   "execution_count": 246,
   "metadata": {
    "collapsed": false
   },
   "outputs": [],
   "source": [
    "reduced_logistic_reg = sklearn.linear_model.LogisticRegression(C=16).fit(reduced_train_xs,train_ys)"
   ]
  },
  {
   "cell_type": "code",
   "execution_count": 247,
   "metadata": {
    "collapsed": false
   },
   "outputs": [
    {
     "name": "stdout",
     "output_type": "stream",
     "text": [
      "('The training accuracy is: ', 1.0)\n",
      "('The validation accuracy is: ', 0.97916666666666663)\n"
     ]
    }
   ],
   "source": [
    "# calculate accuracy \n",
    "predicted_ys_train = reduced_logistic_reg.predict(reduced_train_xs)\n",
    "training_accuracy = reduced_logistic_reg.score(reduced_train_xs,train_ys)\n",
    "print(\"The training accuracy is: \", training_accuracy)\n",
    "validation_accuracy = reduced_logistic_reg.score(reduced_validation_xs, validation_ys)\n",
    "print(\"The validation accuracy is: \", validation_accuracy)"
   ]
  },
  {
   "cell_type": "code",
   "execution_count": 288,
   "metadata": {
    "collapsed": false
   },
   "outputs": [
    {
     "name": "stdout",
     "output_type": "stream",
     "text": [
      "43529\n",
      "('The training accuracy is: ', 0.9994791666666667)\n",
      "('The validation accuracy is: ', 0.87916666666666665)\n"
     ]
    }
   ],
   "source": [
    "# use weights which are outside +- 1.5 sds from mean\n",
    "bad_indicies_2 = np.where((z_score_weights<1.96) & (z_score_weights>-1.96))\n",
    "print(len(bad_indicies_2[1]))\n",
    "reduced_features_2 = df.drop(df.columns[bad_indicies[1]], axis=1)\n",
    "reduced_validation_xs_2, reduced_train_xs_2, validation_ys, train_ys  = sklearn.model_selection.train_test_split(reduced_features_2,y_vals,test_size=0.8)\n",
    "\n",
    "reduced_logistic_reg_2 = sklearn.linear_model.LogisticRegression().fit(reduced_train_xs_2,train_ys)\n",
    "# calculate accuracy \n",
    "predicted_ys_train = reduced_logistic_reg_2.predict(reduced_train_xs_2)\n",
    "training_accuracy = reduced_logistic_reg_2.score(reduced_train_xs_2,train_ys)\n",
    "print(\"The training accuracy is: \", training_accuracy)\n",
    "validation_accuracy = reduced_logistic_reg_2.score(reduced_validation_xs_2, validation_ys)\n",
    "print(\"The validation accuracy is: \", validation_accuracy)"
   ]
  },
  {
   "cell_type": "markdown",
   "metadata": {
    "deletable": true,
    "editable": true
   },
   "source": [
    "# Single Decision Tree"
   ]
  },
  {
   "cell_type": "markdown",
   "metadata": {
    "deletable": true,
    "editable": true
   },
   "source": [
    "#### Basic Decision Tree\n",
    "\n",
    "* Initialize your model as a decision tree with sklearn.\n",
    "* Fit the data and labels to the model.\n",
    "\n",
    "References:\n",
    "\n",
    "http://scikit-learn.org/stable/modules/generated/sklearn.tree.DecisionTreeClassifier.html\n"
   ]
  },
  {
   "cell_type": "code",
   "execution_count": 429,
   "metadata": {
    "collapsed": false,
    "deletable": true,
    "editable": true
   },
   "outputs": [],
   "source": [
    "\n",
    "clf = DecisionTreeClassifier(criterion = \"gini\", \n",
    "                                  random_state = 10,\n",
    "                                  max_depth=12, \n",
    "                                  min_samples_leaf=5\n",
    "                                 )\n",
    "clf.fit(train_xs, train_ys)\n",
    "predicted_test_ys = clf.predict(train_xs)\n",
    "predicted_validation_ys = clf.predict(validation_xs)"
   ]
  },
  {
   "cell_type": "code",
   "execution_count": 430,
   "metadata": {
    "collapsed": false
   },
   "outputs": [
    {
     "name": "stdout",
     "output_type": "stream",
     "text": [
      "Training Accuracy is  86.9791666667\n",
      "Validation Accuracy is  72.7083333333\n"
     ]
    }
   ],
   "source": [
    "print \"Training Accuracy is \",accuracy_score(train_ys,predicted_test_ys)*100\n",
    "print \"Validation Accuracy is \",accuracy_score(validation_ys,predicted_validation_ys)*100"
   ]
  },
  {
   "cell_type": "markdown",
   "metadata": {
    "deletable": true,
    "editable": true
   },
   "source": [
    "#### Changing Parameters\n",
    "* To test out which value is optimal for a particular parameter, you can either loop through various values or look into sklearn.model_selection.GridSearchCV\n",
    "\n",
    "References:\n",
    "\n",
    "\n",
    "http://scikit-learn.org/stable/modules/generated/sklearn.model_selection.GridSearchCV.html\n",
    "http://scikit-learn.org/stable/modules/generated/sklearn.tree.DecisionTreeClassifier.html"
   ]
  },
  {
   "cell_type": "code",
   "execution_count": 374,
   "metadata": {
    "collapsed": false,
    "deletable": true,
    "editable": true
   },
   "outputs": [
    {
     "data": {
      "text/plain": [
       "GridSearchCV(cv=None, error_score='raise',\n",
       "       estimator=DecisionTreeClassifier(class_weight=None, criterion='gini', max_depth=None,\n",
       "            max_features=None, max_leaf_nodes=None,\n",
       "            min_impurity_decrease=0.0, min_impurity_split=None,\n",
       "            min_samples_leaf=1, min_samples_split=2,\n",
       "            min_weight_fraction_leaf=0.0, presort=False, random_state=None,\n",
       "            splitter='best'),\n",
       "       fit_params=None, iid=True, n_jobs=1,\n",
       "       param_grid={'random_state': [0, 10], 'criterion': ('entropy', 'gini'), 'max_depth': [1, 5, 10], 'min_samples_leaf': [1, 5]},\n",
       "       pre_dispatch='2*n_jobs', refit=True, return_train_score=True,\n",
       "       scoring=None, verbose=0)"
      ]
     },
     "execution_count": 374,
     "metadata": {},
     "output_type": "execute_result"
    }
   ],
   "source": [
    "parameters = {'criterion': (\"entropy\",\"gini\"), 'random_state': [0,10], 'max_depth' : [1,5,10],\n",
    "               'min_samples_leaf': [1,5]}\n",
    "clf = GridSearchCV(DecisionTreeClassifier(), parameters)\n",
    "clf.fit(train_xs, train_ys)"
   ]
  },
  {
   "cell_type": "markdown",
   "metadata": {
    "deletable": true,
    "editable": true
   },
   "source": [
    "How did you choose which parameters to change and what value to give to them? Feel free to show a plot."
   ]
  },
  {
   "cell_type": "code",
   "execution_count": 375,
   "metadata": {
    "collapsed": false,
    "deletable": true,
    "editable": true
   },
   "outputs": [
    {
     "data": {
      "text/plain": [
       "{'criterion': 'entropy',\n",
       " 'max_depth': 1,\n",
       " 'min_samples_leaf': 1,\n",
       " 'random_state': 0}"
      ]
     },
     "execution_count": 375,
     "metadata": {},
     "output_type": "execute_result"
    }
   ],
   "source": [
    "clf.best_params_"
   ]
  },
  {
   "cell_type": "markdown",
   "metadata": {
    "deletable": true,
    "editable": true
   },
   "source": [
    "Why is a single decision tree so prone to overfitting?"
   ]
  },
  {
   "cell_type": "code",
   "execution_count": 421,
   "metadata": {
    "collapsed": false,
    "deletable": true,
    "editable": true
   },
   "outputs": [
    {
     "name": "stdout",
     "output_type": "stream",
     "text": [
      "0.879166666667\n",
      "0.78125\n"
     ]
    }
   ],
   "source": [
    "clf = DecisionTreeClassifier(criterion = \"entropy\", \n",
    "                                  random_state = 0,\n",
    "                                  max_depth=10, \n",
    "                                  min_samples_leaf=1\n",
    "                                 )\n",
    "clf.fit(train_xs, train_ys)\n",
    "print(clf.score(train_xs, train_ys))\n",
    "print(clf.score(validation_xs,validation_ys))"
   ]
  },
  {
   "cell_type": "markdown",
   "metadata": {
    "deletable": true,
    "editable": true
   },
   "source": [
    "# Random Forest Classifier"
   ]
  },
  {
   "cell_type": "markdown",
   "metadata": {
    "deletable": true,
    "editable": true
   },
   "source": [
    "#### Basic Random Forest\n",
    "\n",
    "* Use sklearn's ensemble.RandomForestClassifier() to create your model.\n",
    "* Fit the data and labels with your model.\n",
    "* Score your model with the same data and labels.\n",
    "\n",
    "References:\n",
    "\n",
    "http://scikit-learn.org/stable/modules/generated/sklearn.ensemble.RandomForestClassifier.html\n"
   ]
  },
  {
   "cell_type": "code",
   "execution_count": 370,
   "metadata": {
    "collapsed": false,
    "deletable": true,
    "editable": true
   },
   "outputs": [],
   "source": [
    "clf = RandomForestClassifier()\n",
    "random_forest = clf.fit(train_xs, train_ys)\n"
   ]
  },
  {
   "cell_type": "code",
   "execution_count": 371,
   "metadata": {
    "collapsed": false
   },
   "outputs": [
    {
     "name": "stdout",
     "output_type": "stream",
     "text": [
      "0.875520833333\n",
      "0.645833333333\n"
     ]
    }
   ],
   "source": [
    "print(random_forest.score(train_xs,train_ys))\n",
    "print(random_forest.score(validation_xs,validation_ys))\n"
   ]
  },
  {
   "cell_type": "markdown",
   "metadata": {
    "deletable": true,
    "editable": true
   },
   "source": [
    "#### Changing Parameters"
   ]
  },
  {
   "cell_type": "code",
   "execution_count": 382,
   "metadata": {
    "collapsed": false,
    "deletable": true,
    "editable": true
   },
   "outputs": [
    {
     "data": {
      "text/plain": [
       "GridSearchCV(cv=None, error_score='raise',\n",
       "       estimator=RandomForestClassifier(bootstrap=True, class_weight=None, criterion='gini',\n",
       "            max_depth=None, max_features='auto', max_leaf_nodes=None,\n",
       "            min_impurity_decrease=0.0, min_impurity_split=None,\n",
       "            min_samples_leaf=1, min_samples_split=2,\n",
       "            min_weight_fraction_leaf=0.0, n_estimators=10, n_jobs=1,\n",
       "            oob_score=False, random_state=None, verbose=0,\n",
       "            warm_start=False),\n",
       "       fit_params=None, iid=True, n_jobs=1,\n",
       "       param_grid={'random_state': [0, 10], 'criterion': ('entropy', 'gini'), 'max_depth': [1, 5], 'min_samples_leaf': [1, 5]},\n",
       "       pre_dispatch='2*n_jobs', refit=True, return_train_score=True,\n",
       "       scoring=None, verbose=0)"
      ]
     },
     "execution_count": 382,
     "metadata": {},
     "output_type": "execute_result"
    }
   ],
   "source": [
    "parameters = {'criterion': (\"entropy\",\"gini\"), 'random_state': [0,10], 'max_depth' : [1,5],\n",
    "               'min_samples_leaf': [1,5]}\n",
    "clf = GridSearchCV(RandomForestClassifier(), parameters)\n",
    "clf.fit(train_xs, train_ys)"
   ]
  },
  {
   "cell_type": "markdown",
   "metadata": {
    "deletable": true,
    "editable": true
   },
   "source": [
    "What parameters did you choose to change and why?"
   ]
  },
  {
   "cell_type": "code",
   "execution_count": 383,
   "metadata": {
    "collapsed": false,
    "deletable": true,
    "editable": true
   },
   "outputs": [
    {
     "data": {
      "text/plain": [
       "{'criterion': 'entropy',\n",
       " 'max_depth': 1,\n",
       " 'min_samples_leaf': 1,\n",
       " 'random_state': 0}"
      ]
     },
     "execution_count": 383,
     "metadata": {},
     "output_type": "execute_result"
    }
   ],
   "source": [
    "clf.best_params_"
   ]
  },
  {
   "cell_type": "markdown",
   "metadata": {
    "deletable": true,
    "editable": true
   },
   "source": [
    "How does a random forest classifier prevent overfitting better than a single decision tree?"
   ]
  },
  {
   "cell_type": "code",
   "execution_count": 437,
   "metadata": {
    "collapsed": false,
    "deletable": true,
    "editable": true
   },
   "outputs": [
    {
     "name": "stdout",
     "output_type": "stream",
     "text": [
      "0.755729166667\n",
      "0.725\n"
     ]
    }
   ],
   "source": [
    "clf = RandomForestClassifier(criterion='entropy',max_depth=10,min_samples_leaf=1,random_state=0)\n",
    "random_forest = clf.fit(train_xs, train_ys)\n",
    "print(random_forest.score(train_xs,train_ys))\n",
    "print(random_forest.score(validation_xs,validation_ys))"
   ]
  },
  {
   "cell_type": "code",
   "execution_count": null,
   "metadata": {
    "collapsed": true,
    "deletable": true,
    "editable": true
   },
   "outputs": [],
   "source": []
  },
  {
   "cell_type": "code",
   "execution_count": null,
   "metadata": {
    "collapsed": true
   },
   "outputs": [],
   "source": []
  }
 ],
 "metadata": {
  "kernelspec": {
   "display_name": "Python 2",
   "language": "python",
   "name": "python2"
  },
  "language_info": {
   "codemirror_mode": {
    "name": "ipython",
    "version": 2
   },
   "file_extension": ".py",
   "mimetype": "text/x-python",
   "name": "python",
   "nbconvert_exporter": "python",
   "pygments_lexer": "ipython2",
   "version": "2.7.13"
  }
 },
 "nbformat": 4,
 "nbformat_minor": 1
}
