{
 "cells": [
  {
   "cell_type": "markdown",
   "metadata": {},
   "source": [
    "# Homework 2 - Camin McCluskey "
   ]
  },
  {
   "cell_type": "code",
   "execution_count": 178,
   "metadata": {
    "collapsed": true
   },
   "outputs": [],
   "source": [
    "import matplotlib.pyplot as plt\n",
    "import matplotlib.image as mpimg\n",
    "import numpy as np\n",
    "import pandas as pd\n",
    "from sklearn.svm import SVC\n",
    "%matplotlib inline"
   ]
  },
  {
   "cell_type": "code",
   "execution_count": 179,
   "metadata": {
    "collapsed": false
   },
   "outputs": [],
   "source": [
    "training_set = pd.read_csv('training.csv', index_col=False, header=None)\n",
    "test_set = pd.read_csv('test.csv', index_col=False, header=None)"
   ]
  },
  {
   "cell_type": "code",
   "execution_count": 180,
   "metadata": {
    "collapsed": false
   },
   "outputs": [],
   "source": [
    "training_set.columns , test_set.columns = ['x1', 'x2', 'x3', 'label'], ['x1', 'x2', 'x3', 'label']"
   ]
  },
  {
   "cell_type": "code",
   "execution_count": 181,
   "metadata": {
    "collapsed": false
   },
   "outputs": [],
   "source": [
    "# split labels and features \n",
    "train_xs = training_set.loc[:,['x1','x2','x3']]\n",
    "train_ys = training_set.loc[:,['label']]\n",
    "\n",
    "test_xs = test_set.loc[:,['x1','x2','x3']]\n",
    "test_ys = test_set.loc[:,['label']]"
   ]
  },
  {
   "cell_type": "code",
   "execution_count": 182,
   "metadata": {
    "collapsed": false
   },
   "outputs": [],
   "source": [
    "# intialise a classifier \n",
    "clf = SVC()"
   ]
  },
  {
   "cell_type": "code",
   "execution_count": 183,
   "metadata": {
    "collapsed": false
   },
   "outputs": [],
   "source": [
    "training_errors, test_errors, i = np.empty(20), np.empty(20), 0\n",
    "# tune hyperparams and record training and test set error\n",
    "for c in [0.0001, 0.001, 0.01, 0.1, 1]:\n",
    "    for d in [1, 2, 3, 5]:\n",
    "        clf = SVC(C=c, degree=d, kernel='poly')\n",
    "        clf.fit(train_xs,train_ys)\n",
    "        training_errors[i] = (1 - clf.score(train_xs,train_ys))\n",
    "        test_errors[i] = (1 - clf.score(test_xs,test_ys))\n",
    "        i += 1"
   ]
  },
  {
   "cell_type": "code",
   "execution_count": 184,
   "metadata": {
    "collapsed": false
   },
   "outputs": [],
   "source": [
    "# reshape to plot\n",
    "training_errors_to_plt = training_errors.reshape((5,4))\n",
    "test_errors_to_plt = test_errors.reshape((5,4))"
   ]
  },
  {
   "cell_type": "code",
   "execution_count": 193,
   "metadata": {
    "collapsed": false
   },
   "outputs": [
    {
     "data": {
      "image/png": "[encoded data removed]",
      "text/plain": [
       "<matplotlib.figure.Figure at 0x115c68bd0>"
      ]
     },
     "metadata": {},
     "output_type": "display_data"
    },
    {
     "data": {
      "text/plain": [
       "array([[ 8.9,  8.9,  5.3,  1.9],\n",
       "       [ 8.9,  8.9,  2.3,  1.5],\n",
       "       [ 8.8,  8.9,  1.8,  1.5],\n",
       "       [ 3.9,  8.9,  1.8,  1.5],\n",
       "       [ 3.4,  8.9,  1.8,  1.4]])"
      ]
     },
     "execution_count": 193,
     "metadata": {},
     "output_type": "execute_result"
    }
   ],
   "source": [
    "training_error_plt = plt.imshow(training_errors_to_plt,cmap=\"gist_gray\")\n",
    "plt.colorbar()\n",
    "plt.xticks(np.arange(4),(1,2,3,5))\n",
    "plt.yticks(np.arange(5),(0.0001, 0.001, 0.01, 0.1, 1))\n",
    "plt.show()\n",
    "training_errors_to_plt *100"
   ]
  },
  {
   "cell_type": "code",
   "execution_count": 194,
   "metadata": {
    "collapsed": false
   },
   "outputs": [
    {
     "data": {
      "image/png": "[encoded data removed]",
      "text/plain": [
       "<matplotlib.figure.Figure at 0x115779690>"
      ]
     },
     "metadata": {},
     "output_type": "display_data"
    },
    {
     "data": {
      "text/plain": [
       "array([[ 44.16666667,  44.16666667,  12.46666667,   9.43333333],\n",
       "       [ 37.4       ,  44.16666667,   7.5       ,  11.16666667],\n",
       "       [ 18.8       ,  44.16666667,   6.        ,  10.93333333],\n",
       "       [ 21.9       ,  44.16666667,   5.83333333,  11.        ],\n",
       "       [ 23.23333333,  44.16666667,   5.8       ,  10.83333333]])"
      ]
     },
     "execution_count": 194,
     "metadata": {},
     "output_type": "execute_result"
    }
   ],
   "source": [
    "training_error_plt = plt.imshow(test_errors_to_plt,cmap=\"gist_gray\")\n",
    "plt.colorbar()\n",
    "plt.xticks(np.arange(4),(1,2,3,5))\n",
    "plt.yticks(np.arange(5),(0.0001, 0.001, 0.01, 0.1, 1))\n",
    "plt.show()\n",
    "test_errors_to_plt * 100"
   ]
  },
  {
   "cell_type": "markdown",
   "metadata": {},
   "source": [
    "** Analysis and Conclusion **\n",
    "\n",
    "    1. On what basis would you decide that a hyperparameter setting is optimal? Which setting of (C, d) gave the optimal results?\n",
    "\n",
    "I would decide the optimal hyperparameter setting based on the classification error on the test (not training) set. Based on this rationale setting (C,d) to (1,3) is optimal.\n",
    "\n",
    "    2. You’ll notice that between C and d, one factor mattered far more than the other. What can you conclude about the structure of the datasets and how they were generated?\n",
    "\n",
    "It is clear from the error chart above that modifications to d (the degree of the polynomial) were more effective than modications to C the penalty on misclassified points. The error rate is greatly reduced when we move from a polynomial of degree 2 to one of degree 3. It then increases again when a polynomial of degree 5 is fitted. Indicating the data is best segmented using a decision boundary implemented by a polynomial of degree 3.\n",
    "\n",
    "    3. With as much granularity as possible, which hyperparameter settings are underfitting and which are \n",
    "    overfitting What allows you to make this claim?\n",
    "\n",
    "Clearly an SVM with polynomial of degree 1 or 2, underfits the data as the training error rate is high (8.9%) and modifications to the C hyperparameter did noy yield a lower error rate. This is proven by the fact that the error rate on the test data is extermely high (44.16%). Moving to the highest degree of polynomial tested (5) yeilds a very low training error rate (<2% for all C tested) but results in high test data error rates, suggesting this polynomial overfits the data. A similar logic can be applied to the modification of the penalty C. For all polynomials of degree 1 and 5 it is evident that overfitting occurs when we too harshly penalise misclassified points in the training data, as the training error rate drops as C increases to 0.0001, but in the test set; a lower error rate is observed for SVM's trained with a value of C = 0.01.\n",
    "\n",
    "\n"
   ]
  },
  {
   "cell_type": "markdown",
   "metadata": {},
   "source": [
    "# 2 - K-Fold Cross Validation"
   ]
  },
  {
   "cell_type": "code",
   "execution_count": 187,
   "metadata": {
    "collapsed": false
   },
   "outputs": [],
   "source": [
    "# split data into 7 parts \n",
    "k_part_xs = np.array_split(train_xs,7)\n",
    "k_part_ys = np.array_split(train_ys,7)"
   ]
  },
  {
   "cell_type": "code",
   "execution_count": 188,
   "metadata": {
    "collapsed": false
   },
   "outputs": [],
   "source": [
    "# train the SVC on the first 1/7th of the data then compute error on the other 6/7ths\n",
    "# for each gamma in {0.001, 0.01, 0.1, 1, 10, 100, 1000}\n",
    "training_errors, param, sigma_errors = np.empty(7), 0, 0\n",
    "# change gamma and fit model to each data subet, record training set error on other 6/7th of data then average\n",
    "for g in [0.001, 0.01, 0.1, 1, 10, 100, 1000]:\n",
    "    clf = SVC(kernel='rbf',gamma=g)\n",
    "    for i in range(7):\n",
    "        # train on everything but the selected portion - then test on that\n",
    "        k_minus_1_parts_xs = k_part_xs[0:i] + k_part_xs[i+1:]\n",
    "        k_minus_1_parts_ys = k_part_ys[0:i] + k_part_ys[i+1:]\n",
    "        xs = np.concatenate(k_minus_1_parts_xs, axis=0)\n",
    "        ys = np.concatenate(k_minus_1_parts_ys, axis=0)\n",
    "        clf.fit(xs,ys)\n",
    "        sigma_errors += 1 - clf.score(k_part_xs[i],k_part_ys[i])\n",
    "    average_error = sigma_errors / 7\n",
    "    training_errors[param]  = average_error\n",
    "    param += 1"
   ]
  },
  {
   "cell_type": "code",
   "execution_count": 189,
   "metadata": {
    "collapsed": false
   },
   "outputs": [],
   "source": [
    "error_table = pd.DataFrame(columns=[0.001, 0.01, 0.1, 1, 10, 100, 1000],data=[training_errors])"
   ]
  },
  {
   "cell_type": "code",
   "execution_count": 190,
   "metadata": {
    "collapsed": false
   },
   "outputs": [
    {
     "data": {
      "text/html": [
       "<div>\n",
       "<table border=\"1\" class=\"dataframe\">\n",
       "  <thead>\n",
       "    <tr style=\"text-align: right;\">\n",
       "      <th></th>\n",
       "      <th>0.001</th>\n",
       "      <th>0.01</th>\n",
       "      <th>0.1</th>\n",
       "      <th>1.0</th>\n",
       "      <th>10.0</th>\n",
       "      <th>100.0</th>\n",
       "      <th>1000.0</th>\n",
       "    </tr>\n",
       "  </thead>\n",
       "  <tbody>\n",
       "    <tr>\n",
       "      <th>0</th>\n",
       "      <td>0.089031</td>\n",
       "      <td>0.13502</td>\n",
       "      <td>0.172018</td>\n",
       "      <td>0.219013</td>\n",
       "      <td>0.30504</td>\n",
       "      <td>0.394071</td>\n",
       "      <td>0.483101</td>\n",
       "    </tr>\n",
       "  </tbody>\n",
       "</table>\n",
       "</div>"
      ],
      "text/plain": [
       "   0.001     0.010     0.100     1.000     10.000    100.000   1000.000\n",
       "0  0.089031   0.13502  0.172018  0.219013   0.30504  0.394071  0.483101"
      ]
     },
     "execution_count": 190,
     "metadata": {},
     "output_type": "execute_result"
    }
   ],
   "source": [
    "error_table"
   ]
  },
  {
   "cell_type": "code",
   "execution_count": null,
   "metadata": {
    "collapsed": true
   },
   "outputs": [],
   "source": []
  }
 ],
 "metadata": {
  "kernelspec": {
   "display_name": "Python 2",
   "language": "python",
   "name": "python2"
  },
  "language_info": {
   "codemirror_mode": {
    "name": "ipython",
    "version": 2
   },
   "file_extension": ".py",
   "mimetype": "text/x-python",
   "name": "python",
   "nbconvert_exporter": "python",
   "pygments_lexer": "ipython2",
   "version": "2.7.13"
  }
 },
 "nbformat": 4,
 "nbformat_minor": 2
}
